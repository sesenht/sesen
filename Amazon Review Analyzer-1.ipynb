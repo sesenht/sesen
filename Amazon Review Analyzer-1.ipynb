{
 "cells": [
  {
   "cell_type": "markdown",
   "metadata": {},
   "source": [
    "## Abstract\n",
    "Sentiment Analysis, also referred to as opinion mining is a type of analysis that determines the stance or emotion of a person concerning a particular issue. It is a very essential analysis that is widely used by eCommerce companies to understand customers’ perceptions of a product or service based on the reviews they write. In this study, two sentiment analysis models that determine whether a review is negative or positive will be built using the Naive Bayes and regularized linear model with stochastic gradient descent (SGD) learning algorithms and the models will be trained on a set of Amazon reviews. The predictive models will be tested with another set of reviews and the model that fits the reviews best will be recommended after evaluation.\n"
   ]
  },
  {
   "cell_type": "markdown",
   "metadata": {},
   "source": [
    "## Introduction\n",
    "Analyzing product reviews is very essential for eCommerce businesses. Most users read reviews before buying products. Reviews are very significant aspects in online shopping that they can make buyers change their decisions. According to a study “U.S. most popular reasons for buying via Amazon 2020”, it was found that 40% of people who purchase products on amazon buy the products because of the reviews and recommendations (Sabanoglu, 2020). As much as positive reviews help attract more buyers, negative reviews can also affect sales of a product or diminish the credibility of a seller. Thus, eCommerce businesses need to keep an eye on reviews. Most retail companies sell their products on many platforms or some could have an extensive number of sales and reviews that make manual review analysis costly and impractical. By analyzing the sentiment of product reviews, sellers on Amazon can understand the market better and can analyze what their customers like and dislike about their products.  NLP techniques provide an overall perspective for all reviews by performing tasks such as sentiment analysis, review summarization, identifying review helpfulness, and so on. (Vajjala & Majumder, 2020, p 443)\n",
    "The objective of this study is to build a model that analyzes the sentiment of product reviews efficiently using a dataset scraped from Amazon. The dataset consists of four million labeled, positive and negative Amazon customer reviews. The dataset did not include any neutral reviews because it would be ambiguous to detect sentiment. Two classification models, Naïve Bayes and Support Vector Machine (SVM) with SGD learning will be used and the results will be analyzed.\n"
   ]
  },
  {
   "cell_type": "markdown",
   "metadata": {},
   "source": [
    "## Background  \n",
    "Naive Bayes is a probabilistic classifier that uses Bayes’ theorem to classify texts based on the evidence seen in training data. It estimates the conditional probability of each feature of a given text for each class based on the occurrence of that feature in that class and multiplies the probabilities of all the features of a given text to compute the final probability of classification for each class. Finally, it chooses the class with maximum probability. (Vajjala & Majumder, 2020, p 193). \n",
    "The support vector machines (SVMs) on the other hand is a classification method for both linear and nonlinear data. In a nutshell, an SVM is an algorithm that uses a nonlinear mapping to transform the original training data into a higher dimension. Within this new dimension, it searches for the linear optimal separating hyperplane (i.e., a “decision boundary” separating the tuples of one class from another). (Han, 2012, p 408)"
   ]
  },
  {
   "cell_type": "markdown",
   "metadata": {},
   "source": [
    "## Methodology\n",
    "In this section, the methods used in this study will be introduced and described.\n",
    "\n",
    "**Step 1: Data selection**\n",
    "The dataset used in this study was found from Kaggle, an online community of data scientists and machine learning practitioners and was available to the public. The dataset consists of four million Amazon customer reviews and star ratings labeled (__label1__) for 1 and 2 stars and (__lablel2__) for 4 and 5star reviews. 3 stars reviews were disregarded because they are considered neutral. The dataset already had the data split into train and test sets.\n",
    "\n",
    "**Step 2: Data preprocessing**\n",
    "In this step, the data set selected is preprocessed as follows:\n",
    "1.\tSplitting the label (sentiment) and text (reviews) from the string and storing them in a data frame.\n",
    "2.\tWord tokenization: the nltk word_tokenize package is used to remove punctuation from review text.\n",
    "3.\tRemoving stopwords: stopwords in the nltk stopwords corpus for the English language are used.\n",
    "4.\tData Reduction: setting tuple to be used to optimize CPU runtime \n",
    "5.\tNormalizing Sentiment: setting new labels\n",
    "\n",
    "**Step 3: Text Representation**\n",
    "TF-IDF, or term frequency-inverse document frequency text classification method will be used to vectorize the tokens . This quantifies the importance of a given word relative to other words in the reviews. The Scikit learn module will be used to vectorize the data.\n",
    "\n",
    "\"TF-IDF score = TF * IDF\" \n",
    "\n",
    "Where, \n",
    "\n",
    "\"TF\" (\"t,f\" )=\"number of occurrences of term t in document d\" /\"total number of terms in a document\" \n",
    "\n",
    "\"IDF\" (\"t\" )=\"Total number of documents in the corpus\" /\"Number of documents with term t in them\" \n",
    "\n",
    "**Step 4: Creating Models**\n",
    "\n",
    "1.\tNaïve Bayesian classification model\n",
    "Let D be a training set of tuples and their associated class labels. As usual, each tuple is represented by an n-dimensional attribute vector, X=(x1, x2, … , xn), and C be the number if classes.\n",
    " \n",
    "2.\tScikit-learn SGD classification model:\n",
    "This estimator implements regularized linear models(SVM) with stochastic gradient descent (SGD) learning: the gradient of the loss is estimated each sample at a time and the model is updated along the way with a decreasing strength schedule (aka learning rate). (Scikit.learn developers, 2011)\n",
    "\n",
    "**Step 5: Training the classifiers with the training set<br>\n",
    "Step 6: Testing the Models with the test set<br>\n",
    "Step 7: Evaluating the models:**\n",
    "\n",
    "1.\tComputing the confusion matrix\n",
    "2.\tComputing the evaluation matrix\n"
   ]
  },
  {
   "cell_type": "code",
   "execution_count": 1,
   "metadata": {},
   "outputs": [],
   "source": [
    "import bz2\n",
    "import os\n",
    "import pandas as pd\n",
    "\n",
    "import nltk\n",
    "from nltk.corpus import stopwords\n",
    "from nltk import word_tokenize\n",
    "\n",
    "import sklearn\n",
    "from sklearn.feature_extraction import text\n",
    "from sklearn.feature_extraction.text import TfidfVectorizer\n",
    "from sklearn.naive_bayes import MultinomialNB\n",
    "from sklearn.linear_model import SGDClassifier\n",
    "from sklearn.metrics import plot_confusion_matrix\n",
    "from sklearn.metrics import classification_report\n",
    "from sklearn.metrics import confusion_matrix\n",
    "\n",
    "import matplotlib.pyplot as plt\n"
   ]
  },
  {
   "cell_type": "markdown",
   "metadata": {},
   "source": [
    "## Reading data from file"
   ]
  },
  {
   "cell_type": "code",
   "execution_count": 2,
   "metadata": {},
   "outputs": [
    {
     "name": "stdout",
     "output_type": "stream",
     "text": [
      "['test.ft.txt.bz2', 'train.ft.txt.bz2']\n"
     ]
    }
   ],
   "source": [
    "print(os.listdir('C:\\\\IT-576\\\\reviews'))"
   ]
  },
  {
   "cell_type": "code",
   "execution_count": 3,
   "metadata": {},
   "outputs": [],
   "source": [
    "trainfile = bz2.BZ2File('C:\\\\IT-576\\\\reviews\\\\train.ft.txt.bz2','r')\n",
    "trainlines = trainfile.readlines()\n",
    "\n",
    "testfile = bz2.BZ2File('C:\\\\IT-576\\\\reviews\\\\test.ft.txt.bz2','r')\n",
    "testlines = testfile.readlines()"
   ]
  },
  {
   "cell_type": "code",
   "execution_count": 4,
   "metadata": {},
   "outputs": [
    {
     "data": {
      "text/plain": [
       "(3600000, 400000)"
      ]
     },
     "execution_count": 4,
     "metadata": {},
     "output_type": "execute_result"
    }
   ],
   "source": [
    "len(trainlines),len(testlines)"
   ]
  },
  {
   "cell_type": "code",
   "execution_count": 5,
   "metadata": {},
   "outputs": [
    {
     "data": {
      "text/plain": [
       "b\"__label__2 One of the best game music soundtracks - for a game I didn't really play: Despite the fact that I have only played a small portion of the game, the music I heard (plus the connection to Chrono Trigger which was great as well) led me to purchase the soundtrack, and it remains one of my favorite albums. There is an incredible mix of fun, epic, and emotional songs. Those sad and beautiful tracks I especially like, as there's not too many of those kinds of songs in my other video game soundtracks. I must admit that one of the songs (Life-A Distant Promise) has brought tears to my eyes on many occasions.My one complaint about this soundtrack is that they use guitar fretting effects in many of the songs, which I find distracting. But even if those weren't included I would still consider the collection worth it.\\n\""
      ]
     },
     "execution_count": 5,
     "metadata": {},
     "output_type": "execute_result"
    }
   ],
   "source": [
    "#sample review\n",
    "testlines[1]\n",
    "\n"
   ]
  },
  {
   "cell_type": "markdown",
   "metadata": {},
   "source": [
    "The reviewes are labeled as:\n",
    "- **___label __2** if positive and\n",
    "- **___label __1** if negative\n",
    "   "
   ]
  },
  {
   "cell_type": "code",
   "execution_count": 6,
   "metadata": {},
   "outputs": [],
   "source": [
    "#label sepatater"
   ]
  },
  {
   "cell_type": "code",
   "execution_count": 7,
   "metadata": {},
   "outputs": [],
   "source": [
    "test_review_sentiment_list=[]\n",
    "train_review_sentiment_list=[]\n",
    "def text_lable_separator(data,review_list,split_string='__label__'):\n",
    "    for i in range(len(data)):\n",
    "        review=str(data[i])\n",
    "        splitText=review.split(split_string)\n",
    "        secHalf=splitText[1]\n",
    "        text=secHalf[2:len(secHalf)-1]\n",
    "        sentiment=secHalf[0]\n",
    "        review_list.append([text,sentiment])\n",
    "    return review_list"
   ]
  },
  {
   "cell_type": "markdown",
   "metadata": {},
   "source": [
    "## Setting train and test sets"
   ]
  },
  {
   "cell_type": "code",
   "execution_count": 8,
   "metadata": {},
   "outputs": [
    {
     "data": {
      "text/plain": [
       "(400000, 100000)"
      ]
     },
     "execution_count": 8,
     "metadata": {},
     "output_type": "execute_result"
    }
   ],
   "source": [
    "text_lable_separator(trainlines[:400000],train_review_sentiment_list)\n",
    "text_lable_separator(testlines[:100000],test_review_sentiment_list)\n",
    "len(train_review_sentiment_list),len(test_review_sentiment_list)"
   ]
  },
  {
   "cell_type": "code",
   "execution_count": 9,
   "metadata": {},
   "outputs": [],
   "source": [
    "train_df = pd.DataFrame(train_review_sentiment_list,columns=['Text','Sentiment'])\n",
    "test_df = pd.DataFrame(test_review_sentiment_list,columns=['Text','Sentiment'])"
   ]
  },
  {
   "cell_type": "code",
   "execution_count": 10,
   "metadata": {},
   "outputs": [],
   "source": [
    "train_df['Sentiment'][train_df['Sentiment']=='1'] = 'neg'\n",
    "train_df['Sentiment'][train_df['Sentiment']=='2'] = 'pos'\n",
    "\n",
    "test_df['Sentiment'][test_df['Sentiment']=='1'] = 'neg'\n",
    "test_df['Sentiment'][test_df['Sentiment']=='2'] = 'pos'"
   ]
  },
  {
   "cell_type": "markdown",
   "metadata": {},
   "source": [
    "#### Text Pre-proccessing "
   ]
  },
  {
   "cell_type": "code",
   "execution_count": 11,
   "metadata": {},
   "outputs": [],
   "source": [
    "s_words=nltk.corpus.stopwords.words('english')\n",
    "def preprocess_text(dff, feature):   \n",
    "        preprocessed_text = []   \n",
    "        for sent in dff[feature].values:       \n",
    "            token= nltk.word_tokenize(sent.lower())      #tokenize\n",
    "            sent= ' '.join(e for e in token if e not in s_words)\n",
    "            \n",
    "            preprocessed_text.append(sent.lower().strip()) \n",
    "        return preprocessed_text "
   ]
  },
  {
   "cell_type": "code",
   "execution_count": 12,
   "metadata": {},
   "outputs": [],
   "source": [
    "train_prep_reviews=preprocess_text(train_df, 'Text')\n",
    "test_prep_reviews=preprocess_text(test_df, 'Text')"
   ]
  },
  {
   "cell_type": "markdown",
   "metadata": {},
   "source": [
    "#### Converting raw frequency counts into TF-IDF values"
   ]
  },
  {
   "cell_type": "code",
   "execution_count": 13,
   "metadata": {},
   "outputs": [],
   "source": [
    "vectorizer = TfidfVectorizer(min_df=10, max_df=0.95)\n",
    "train_tfidf = vectorizer.fit_transform(train_prep_reviews)\n",
    "test_tfidf = vectorizer.transform(test_prep_reviews)"
   ]
  },
  {
   "cell_type": "code",
   "execution_count": 14,
   "metadata": {},
   "outputs": [
    {
     "name": "stdout",
     "output_type": "stream",
     "text": [
      "Shape of train matrix after Tfidf :  (400000, 39767)\n",
      "Shape of test matrix after Tfidf :  (100000, 39767)\n"
     ]
    }
   ],
   "source": [
    "print(\"Shape of train matrix after Tfidf : \",train_tfidf.shape)\n",
    "print(\"Shape of test matrix after Tfidf : \",test_tfidf.shape)"
   ]
  },
  {
   "cell_type": "code",
   "execution_count": 15,
   "metadata": {},
   "outputs": [],
   "source": [
    "X_tr = train_tfidf\n",
    "y_tr = train_df['Sentiment']\n",
    "X_ts = test_tfidf\n",
    "y_ts = test_df['Sentiment']\n",
    "print(X_tr.shape)\n",
    "print(y_tr.shape)\n",
    "print(X_ts.shape)\n",
    "print(y_ts.shape)"
   ]
  },
  {
   "cell_type": "markdown",
   "metadata": {},
   "source": [
    "## Training Models\n",
    "\n",
    "#### Naive Bayes Classifier\n"
   ]
  },
  {
   "cell_type": "code",
   "execution_count": 17,
   "metadata": {},
   "outputs": [
    {
     "data": {
      "text/plain": [
       "MultinomialNB()"
      ]
     },
     "execution_count": 17,
     "metadata": {},
     "output_type": "execute_result"
    }
   ],
   "source": [
    "NB_model = MultinomialNB()\n",
    "NB_model.fit(X_tr, y_tr)\n"
   ]
  },
  {
   "cell_type": "markdown",
   "metadata": {},
   "source": [
    "##### Testing Model"
   ]
  },
  {
   "cell_type": "code",
   "execution_count": 18,
   "metadata": {},
   "outputs": [
    {
     "name": "stdout",
     "output_type": "stream",
     "text": [
      "[[41942  7479]\n",
      " [ 7973 42606]]\n",
      "              precision    recall  f1-score   support\n",
      "\n",
      "         neg       0.84      0.85      0.84     49421\n",
      "         pos       0.85      0.84      0.85     50579\n",
      "\n",
      "    accuracy                           0.85    100000\n",
      "   macro avg       0.85      0.85      0.85    100000\n",
      "weighted avg       0.85      0.85      0.85    100000\n",
      "\n",
      "Confusion matrix, without normalization\n",
      "[[41942  7479]\n",
      " [ 7973 42606]]\n",
      "Normalized confusion matrix\n",
      "[[0.84866757 0.15133243]\n",
      " [0.15763459 0.84236541]]\n"
     ]
    },
    {
     "data": {
      "image/png": "[encoded data removed]",
      "text/plain": [
       "<Figure size 432x288 with 2 Axes>"
      ]
     },
     "metadata": {
      "needs_background": "light"
     },
     "output_type": "display_data"
    },
    {
     "data": {
      "image/png": "[encoded data removed]",
      "text/plain": [
       "<Figure size 432x288 with 2 Axes>"
      ]
     },
     "metadata": {
      "needs_background": "light"
     },
     "output_type": "display_data"
    }
   ],
   "source": [
    "y_pred = NB_model.predict(X_ts)\n",
    "confusionmatrix = confusion_matrix(y_ts, y_pred)\n",
    "print(confusionmatrix)\n",
    "print(classification_report(y_ts,  y_pred))\n",
    "# Plot non-normalized confusion matrix\n",
    "titles_options = [(\"Confusion matrix, without normalization\", None),\n",
    "                  (\"Normalized confusion matrix\", 'true')]\n",
    "class_names = train_df['Sentiment'].unique()\n",
    "for title, normalize in titles_options:\n",
    "    disp = plot_confusion_matrix(NB_model, X_ts, y_ts,\n",
    "                                 display_labels=class_names,\n",
    "                                 cmap=plt.cm.Blues,\n",
    "                                 normalize=normalize)\n",
    "    disp.ax_.set_title(title)\n",
    "\n",
    "    print(title)\n",
    "    print(disp.confusion_matrix)\n",
    "\n",
    "plt.show()"
   ]
  },
  {
   "cell_type": "markdown",
   "metadata": {},
   "source": [
    "#### Linear Support Vector Machine (SVM) classifier with SGD training"
   ]
  },
  {
   "cell_type": "markdown",
   "metadata": {},
   "source": [
    "##### Training Model"
   ]
  },
  {
   "cell_type": "code",
   "execution_count": 19,
   "metadata": {},
   "outputs": [],
   "source": [
    "SGD_model = SGDClassifier().fit(X_tr, y_tr)"
   ]
  },
  {
   "cell_type": "markdown",
   "metadata": {},
   "source": [
    "##### Testing Model"
   ]
  },
  {
   "cell_type": "code",
   "execution_count": 21,
   "metadata": {},
   "outputs": [
    {
     "name": "stdout",
     "output_type": "stream",
     "text": [
      "[[43448  5973]\n",
      " [ 5664 44915]]\n",
      "              precision    recall  f1-score   support\n",
      "\n",
      "         neg       0.88      0.88      0.88     49421\n",
      "         pos       0.88      0.89      0.89     50579\n",
      "\n",
      "    accuracy                           0.88    100000\n",
      "   macro avg       0.88      0.88      0.88    100000\n",
      "weighted avg       0.88      0.88      0.88    100000\n",
      "\n",
      "Confusion matrix, without normalization\n",
      "[[43448  5973]\n",
      " [ 5664 44915]]\n",
      "Normalized confusion matrix\n",
      "[[0.87914045 0.12085955]\n",
      " [0.11198323 0.88801677]]\n"
     ]
    },
    {
     "data": {
      "image/png": "[encoded data removed]",
      "text/plain": [
       "<Figure size 432x288 with 2 Axes>"
      ]
     },
     "metadata": {
      "needs_background": "light"
     },
     "output_type": "display_data"
    },
    {
     "data": {
      "image/png": "[encoded data removed]",
      "text/plain": [
       "<Figure size 432x288 with 2 Axes>"
      ]
     },
     "metadata": {
      "needs_background": "light"
     },
     "output_type": "display_data"
    }
   ],
   "source": [
    "SGD_pred = SGD_model.predict(X_ts)\n",
    "confusionmatrix = confusion_matrix(y_ts, SGD_pred)\n",
    "print(confusionmatrix)\n",
    "print(classification_report(y_ts,  SGD_pred))\n",
    "# Plot non-normalized confusion matrix\n",
    "titles_options = [(\"Confusion matrix, without normalization\", None),\n",
    "                  (\"Normalized confusion matrix\", 'true')]\n",
    "class_names = train_df['Sentiment'].unique()\n",
    "for title, normalize in titles_options:\n",
    "    disp = plot_confusion_matrix(SGD_model, X_ts, y_ts,\n",
    "                                 display_labels=class_names,\n",
    "                                 cmap=plt.cm.Blues,\n",
    "                                 normalize=normalize)\n",
    "    disp.ax_.set_title(title)\n",
    "\n",
    "    print(title)\n",
    "    print(disp.confusion_matrix)\n",
    "\n",
    "plt.show()"
   ]
  },
  {
   "cell_type": "markdown",
   "metadata": {},
   "source": [
    "### Checking models on random Amazon reviews"
   ]
  },
  {
   "cell_type": "code",
   "execution_count": 22,
   "metadata": {},
   "outputs": [
    {
     "name": "stdout",
     "output_type": "stream",
     "text": [
      "I've read a few books by this author and loved them all so was keen to get another. \n",
      "I really disliked the way that the narrative jumps about in a way that makes me think the author was trying too hard to be rebelious.\n",
      "The author is very bitter and twisted which does not reflect well into his writing.\n",
      "\n",
      " Sentiment NB: neg\n",
      " Sentiment SGD: neg\n",
      " \n",
      "Touching, funny memoir. The writing is original and informal.The personal tale Eggars tells is indeed heartbreaking and yet recounted without a hint of self pity. Eggars’ anecdotes are vivid and often comedic. This is a brilliant read and his novels are also worth exploring. The only book I know of where the title and review are rolled into one!\n",
      "\n",
      " Sentiment NB: pos\n",
      " Sentiment SGD: pos\n",
      " \n"
     ]
    }
   ],
   "source": [
    "random_reviews = [\"I've read a few books by this author and loved them all so was keen to get another. \\nI really disliked the way that the narrative jumps about in a way that makes me think the author was trying too hard to be rebelious.\\nThe author is very bitter and twisted which does not reflect well into his writing.\",\n",
    "               'Touching, funny memoir. The writing is original and informal.The personal tale Eggars tells is indeed heartbreaking and yet recounted without a hint of self pity. Eggars’ anecdotes are vivid and often comedic. This is a brilliant read and his novels are also worth exploring. The only book I know of where the title and review are rolled into one!' ]\n",
    "reviews_new_tfidf = vectorizer.transform(random_reviews)  # turn into tfidf vector\n",
    "categories=train_df['Sentiment'].unique()\n",
    "NBprediction = NB_model.predict(reviews_new_tfidf)\n",
    "SGDprediction = SGD_model.predict(reviews_new_tfidf)\n",
    "for review, NBsentiment,SGDsentiment  in zip(random_reviews, NBprediction,SGDprediction):\n",
    "    print(f\"{review}\\n\\n Sentiment NB: {NBsentiment}\\n Sentiment SGD: {SGDsentiment}\\n \")\n",
    "    "
   ]
  },
  {
   "cell_type": "markdown",
   "metadata": {},
   "source": [
    "## Conclusion\n",
    "Both models performed well. The SGD classifier gave 3% higher accuracy than the Naïve Bayes classifier. The model was tested with a different number of tuples (train set sizes) but it didn’t give a significant difference. According to the outcomes of this study, the SGD classifier works better for analyzing the sentiment of amazon reviews and the model can be applied in analyzing similar eCommerce reviews.\n",
    "\n",
    "### Further Analysis\n",
    "*Finding the missing features in the misclassified sentences and identifying what features also led to success in both pos and neg categories*\n"
   ]
  },
  {
   "cell_type": "code",
   "execution_count": null,
   "metadata": {},
   "outputs": [],
   "source": []
  }
 ],
 "metadata": {
  "kernelspec": {
   "display_name": "Python 3",
   "language": "python",
   "name": "python3"
  },
  "language_info": {
   "codemirror_mode": {
    "name": "ipython",
    "version": 3
   },
   "file_extension": ".py",
   "mimetype": "text/x-python",
   "name": "python",
   "nbconvert_exporter": "python",
   "pygments_lexer": "ipython3",
   "version": "3.8.6"
  }
 },
 "nbformat": 4,
 "nbformat_minor": 4
}
